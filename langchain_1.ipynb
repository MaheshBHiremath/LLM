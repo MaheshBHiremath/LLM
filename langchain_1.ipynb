{
 "cells": [
  {
   "cell_type": "markdown",
   "id": "2e45cb25",
   "metadata": {},
   "source": [
    "### This project demonstrates a chatbot that utilizes LLM prompts via the Google Gemini API to generate creative \"Restaurant Names\" and corresponding \"Menu items\" based on the chosen Cuisine."
   ]
  },
  {
   "cell_type": "code",
   "execution_count": 1,
   "id": "ce638449",
   "metadata": {},
   "outputs": [],
   "source": [
    "import os\n",
    "from secret_key import gemini_secretKey\n",
    "os.environ['GOOGLE_API_KEY'] = gemini_secretKey"
   ]
  },
  {
   "cell_type": "code",
   "execution_count": 2,
   "id": "2b9917cd",
   "metadata": {},
   "outputs": [
    {
     "name": "stderr",
     "output_type": "stream",
     "text": [
      "c:\\Users\\ADMIN\\anaconda3\\envs\\llm_env\\Lib\\site-packages\\tqdm\\auto.py:21: TqdmWarning: IProgress not found. Please update jupyter and ipywidgets. See https://ipywidgets.readthedocs.io/en/stable/user_install.html\n",
      "  from .autonotebook import tqdm as notebook_tqdm\n"
     ]
    }
   ],
   "source": [
    "from langchain.chat_models import init_chat_model\n",
    "model = init_chat_model(\"gemini-2.0-flash\", model_provider=\"google_genai\")"
   ]
  },
  {
   "cell_type": "code",
   "execution_count": 3,
   "id": "6a12750a",
   "metadata": {},
   "outputs": [
    {
     "data": {
      "text/plain": [
       "AIMessage(content='Hello! How can I help you today?', additional_kwargs={}, response_metadata={'prompt_feedback': {'block_reason': 0, 'safety_ratings': []}, 'finish_reason': 'STOP', 'safety_ratings': []}, id='run--afd1cb99-133f-49d2-87ea-61e2183ec13f-0', usage_metadata={'input_tokens': 1, 'output_tokens': 10, 'total_tokens': 11, 'input_token_details': {'cache_read': 0}})"
      ]
     },
     "execution_count": 3,
     "metadata": {},
     "output_type": "execute_result"
    }
   ],
   "source": [
    "model.invoke(\"Hello\")"
   ]
  },
  {
   "cell_type": "code",
   "execution_count": 4,
   "id": "7beb6123",
   "metadata": {},
   "outputs": [
    {
     "name": "stdout",
     "output_type": "stream",
     "text": [
      "Ciao!\n"
     ]
    }
   ],
   "source": [
    "from langchain_core.messages import HumanMessage, SystemMessage\n",
    "\n",
    "messages = [\n",
    "    SystemMessage(\"Translate the following from English into Italian\"),\n",
    "    HumanMessage(\"hi!\"),\n",
    "]\n",
    "\n",
    "response = model.invoke(messages)\n",
    "print(response.content)"
   ]
  },
  {
   "cell_type": "code",
   "execution_count": 5,
   "id": "50e74582",
   "metadata": {},
   "outputs": [],
   "source": [
    "# prompt templates\n",
    "from langchain_core.prompts import ChatPromptTemplate, PromptTemplate\n",
    "system_template = \"Translate the following from English to {language}\"\n",
    "prompt_template = ChatPromptTemplate.from_messages(\n",
    "    [\n",
    "        (\"system\", system_template),\n",
    "        (\"user\", \"{text}\"),\n",
    "    ])"
   ]
  },
  {
   "cell_type": "code",
   "execution_count": 6,
   "id": "6e88a2fb",
   "metadata": {},
   "outputs": [
    {
     "data": {
      "text/plain": [
       "ChatPromptValue(messages=[SystemMessage(content='Translate the following from English to Italian', additional_kwargs={}, response_metadata={}), HumanMessage(content='hi!', additional_kwargs={}, response_metadata={})])"
      ]
     },
     "execution_count": 6,
     "metadata": {},
     "output_type": "execute_result"
    }
   ],
   "source": [
    "prompt = prompt_template.invoke({\"language\":\"Italian\", \"text\":\"hi!\"})\n",
    "prompt"
   ]
  },
  {
   "cell_type": "code",
   "execution_count": 7,
   "id": "5bddaf18",
   "metadata": {},
   "outputs": [
    {
     "data": {
      "text/plain": [
       "[SystemMessage(content='Translate the following from English to Italian', additional_kwargs={}, response_metadata={}),\n",
       " HumanMessage(content='hi!', additional_kwargs={}, response_metadata={})]"
      ]
     },
     "execution_count": 7,
     "metadata": {},
     "output_type": "execute_result"
    }
   ],
   "source": [
    "prompt.to_messages()"
   ]
  },
  {
   "cell_type": "code",
   "execution_count": 8,
   "id": "831ca73d",
   "metadata": {},
   "outputs": [
    {
     "name": "stdout",
     "output_type": "stream",
     "text": [
      "Ciao!\n"
     ]
    }
   ],
   "source": [
    "# invoking the model with a formatted prompt\n",
    "response = model.invoke(prompt)\n",
    "print(response.content)"
   ]
  },
  {
   "cell_type": "code",
   "execution_count": 9,
   "id": "8e5c73db",
   "metadata": {},
   "outputs": [],
   "source": [
    "# installing google llm\n",
    "#!pip install -U langchain langchain-google-genai google-generativeai\n"
   ]
  },
  {
   "cell_type": "code",
   "execution_count": 10,
   "id": "f1aadc64",
   "metadata": {},
   "outputs": [
    {
     "name": "stdout",
     "output_type": "stream",
     "text": [
      "content='Here are some Italian restaurant name ideas, categorized for inspiration:\\n\\n**Classic & Traditional:**\\n\\n*   **Trattoria del Sole:** Evokes a sunny, family-style eatery.\\n*   **Osteria Nonna Emilia:** Suggests a grandmother\\'s traditional recipes and cozy atmosphere.\\n*   **Ristorante Roma:** A simple, direct reference to Italian heritage.\\n*   **Casa di Pasta:** \"House of Pasta,\" emphasizing a pasta-focused menu.\\n\\n**Modern & Chic:**\\n\\n*   **Aperitivo:** Focuses on the Italian tradition of pre-dinner drinks and snacks.\\n*   **Il Sogno:** \"The Dream,\" hinting at a sophisticated dining experience.\\n*   **Via Veneto:** A stylish name referencing a famous Roman street.\\n*   **Limoncello:** A bright, refreshing name associated with a popular Italian liqueur.\\n\\n**Regional & Specific:**\\n\\n*   **Toscana Mia:** \"My Tuscany,\" implying a focus on Tuscan cuisine.\\n*   **Sicilia Bella:** \"Beautiful Sicily,\" highlighting Sicilian dishes.\\n*   **Piemonte Tavola:** \"Piedmont Table,\" emphasizing the cuisine of the Piedmont region.\\n*   **Napoli Pizzeria:** Clearly identifies the restaurant as a Neapolitan-style pizzeria.\\n\\n**Creative & Playful:**\\n\\n*   **Pasta Paradiso:** \"Pasta Paradise,\" a fun and inviting name.\\n*   **The Saucy Spoon:** A memorable and whimsical option.\\n*   **Olive & Vino:** Simple, evocative, and easy to remember.\\n*   **Ciao Bella Bistro:** A friendly and welcoming name.\\n\\nWhen choosing a name, consider your target audience, the style of food you\\'ll be serving, and the overall ambiance you want to create. It\\'s also wise to check if the name is available as a website domain and social media handle. Good luck!' additional_kwargs={} response_metadata={'prompt_feedback': {'block_reason': 0, 'safety_ratings': []}, 'finish_reason': 'STOP', 'safety_ratings': []} id='run--8790e0d9-66d6-4fd0-ab5b-eb4bcd96671a-0' usage_metadata={'input_tokens': 26, 'output_tokens': 386, 'total_tokens': 412, 'input_token_details': {'cache_read': 0}}\n"
     ]
    }
   ],
   "source": [
    "# LLM with Google Generative AI\n",
    "from langchain_google_genai import ChatGoogleGenerativeAI\n",
    "llm = ChatGoogleGenerativeAI(model=\"gemini-2.0-flash\", google_api_key=gemini_secretKey, temperature= 0.6)\n",
    "name = llm.invoke(\n",
    "    [HumanMessage(content=\"I want to open a Italian restaurant. What should I name it?\" \n",
    "                  \"Format your response in complete sentences, not a single line.\")]  # fomatting the response not working\n",
    "                  )\n",
    "print(name)"
   ]
  },
  {
   "cell_type": "code",
   "execution_count": 11,
   "id": "be5098c3",
   "metadata": {},
   "outputs": [
    {
     "name": "stdout",
     "output_type": "stream",
     "text": [
      "Here are some Italian restaurant name ideas, categorized for inspiration:  **Classic &\n",
      "Traditional:**  *   **Trattoria del Sole:** Evokes a sunny, family-style eatery. *   **Osteria Nonna\n",
      "Emilia:** Suggests a grandmother's traditional recipes and cozy atmosphere. *   **Ristorante Roma:**\n",
      "A simple, direct reference to Italian heritage. *   **Casa di Pasta:** \"House of Pasta,\" emphasizing\n",
      "a pasta-focused menu.  **Modern & Chic:**  *   **Aperitivo:** Focuses on the Italian tradition of\n",
      "pre-dinner drinks and snacks. *   **Il Sogno:** \"The Dream,\" hinting at a sophisticated dining\n",
      "experience. *   **Via Veneto:** A stylish name referencing a famous Roman street. *\n",
      "**Limoncello:** A bright, refreshing name associated with a popular Italian liqueur.  **Regional &\n",
      "Specific:**  *   **Toscana Mia:** \"My Tuscany,\" implying a focus on Tuscan cuisine. *   **Sicilia\n",
      "Bella:** \"Beautiful Sicily,\" highlighting Sicilian dishes. *   **Piemonte Tavola:** \"Piedmont\n",
      "Table,\" emphasizing the cuisine of the Piedmont region. *   **Napoli Pizzeria:** Clearly identifies\n",
      "the restaurant as a Neapolitan-style pizzeria.  **Creative & Playful:**  *   **Pasta Paradiso:**\n",
      "\"Pasta Paradise,\" a fun and inviting name. *   **The Saucy Spoon:** A memorable and whimsical\n",
      "option. *   **Olive & Vino:** Simple, evocative, and easy to remember. *   **Ciao Bella Bistro:** A\n",
      "friendly and welcoming name.  When choosing a name, consider your target audience, the style of food\n",
      "you'll be serving, and the overall ambiance you want to create. It's also wise to check if the name\n",
      "is available as a website domain and social media handle. Good luck!\n"
     ]
    }
   ],
   "source": [
    "# formatting the output to get it in a paragraph format\n",
    "import textwrap\n",
    "formatted = textwrap.fill(name.content, width=100)  # Wrap text at 100 characters\n",
    "print(formatted)"
   ]
  },
  {
   "cell_type": "markdown",
   "id": "ac06e121",
   "metadata": {},
   "source": [
    "### Prompt to get a name of the restaurant based on the cuisine"
   ]
  },
  {
   "cell_type": "code",
   "execution_count": 12,
   "id": "2ce7dcca",
   "metadata": {},
   "outputs": [
    {
     "name": "stderr",
     "output_type": "stream",
     "text": [
      "C:\\Users\\ADMIN\\AppData\\Local\\Temp\\ipykernel_10168\\2117891717.py:7: LangChainDeprecationWarning: The class `LLMChain` was deprecated in LangChain 0.1.17 and will be removed in 1.0. Use :meth:`~RunnableSequence, e.g., `prompt | llm`` instead.\n",
      "  chain = LLMChain(\n"
     ]
    },
    {
     "name": "stdout",
     "output_type": "stream",
     "text": [
      "{'cuisine': 'Indian', 'text': 'Okay, I\\'d love to help you brainstorm some names for your Indian restaurant! To give you the best suggestions, let\\'s consider a few things:\\n\\n*   **What kind of Indian cuisine will you specialize in?** (e.g., North Indian, South Indian, Mughlai, regional specialties like Goan or Kerala cuisine, fusion Indian, etc.)\\n*   **What is the overall vibe you\\'re going for?** (e.g., upscale and elegant, casual and family-friendly, modern and trendy, traditional and rustic)\\n*   **What is your target audience?** (e.g., locals, tourists, students, a specific demographic)\\n*   **Do you want a name that is easy to pronounce and remember for non-Indian speakers?**\\n*   **Do you want the name to be location-specific (incorporating the city/neighborhood)?**\\n\\nHere\\'s a list of names, categorized by style, to get you started:\\n\\n**Classic & Traditional:**\\n\\n*   **The Taj Mahal:** Evokes the iconic Indian landmark.\\n*   **The Saffron Table:** Saffron is a prized Indian spice.\\n*   **The Curry Pot:** Simple, direct, and familiar.\\n*   **Maharaja\\'s Palace:** Implies royalty and richness.\\n*   **The Spice Merchant:** Highlights the importance of spices in Indian cuisine.\\n*   **Flavors of India:** A broad and appealing name.\\n*   **The Namaste Kitchen:** Welcoming and friendly.\\n*   **The Tandoor Oven:** Focuses on a specific cooking method.\\n*   **The Bombay Bistro:** Classic and evocative of Mumbai.\\n*   **The Delhi Dhaba:** Captures the essence of roadside eateries in Delhi.\\n\\n**Modern & Trendy:**\\n\\n*   **Masala Lab:** Suggests innovation and experimentation.\\n*   **Spice Route:** Evokes travel and exploration.\\n*   **Curry Up!:** Playful and energetic.\\n*   **Naan Stop:** A fun pun.\\n*   **Chai & Chat:** Focuses on a popular Indian beverage and conversation.\\n*   **The Ghee Spot:** A modern take on a traditional ingredient.\\n*   **Bombay Local:** If you\\'re in a city with a \"local\" vibe.\\n*   **Desi Twist:** Highlights a modern take on traditional flavors.\\n*   **The Samosa Shop:** Simple, direct and memorable.\\n*   **Mango & Spice:** Fresh and inviting.\\n\\n**Regional Specific (Examples - Replace with your specific region):**\\n\\n*   **Kerala Kitchen:** For South Indian Cuisine.\\n*   **Goan Grub:** For Goan Cuisine.\\n*   **Punjab Tadka:** For Punjabi Cuisine.\\n*   **The Bengal Table:** For Bengali Cuisine.\\n*   **Hyderabad House:** For Hyderabadi cuisine.\\n\\n**Elegant & Upscale:**\\n\\n*   **The Amber Room:** Evokes warmth and richness.\\n*   **The Silk Route:** Suggests luxury and exotic flavors.\\n*   **Rasoi:** (Hindi for \"kitchen\") - Simple but elegant.\\n*   **The Cardamom Club:** Sophisticated and exclusive.\\n*   **Neelam:** (Hindi for \"sapphire\") - A precious gem, implying quality.\\n*   **Zaffron:** A slightly different spelling of \"saffron,\" more unique.\\n*   **The Peacock Plume:** Evokes beauty and grace.\\n*   **Indika:** A sophisticated and global-sounding name.\\n\\n**Location Specific (Examples):**\\n\\n*   **[Your City/Neighborhood] Spice:** Simple and direct.\\n*   **[Your Street Name] Curry House:** Easy to remember.\\n*   **[Landmark in your area] Indian Cuisine:** Connects to the local area.\\n\\n**Tips for Choosing:**\\n\\n*   **Check Availability:** Make sure the name isn\\'t already in use by another restaurant in your area (or even nationally). Do a Google search and check with your local business registry.\\n*   **Domain Name:** See if the domain name is available. Having a website is essential.\\n*   **Social Media Handles:** Check if the social media handles (Facebook, Instagram, etc.) are available.\\n*   **Say it Out Loud:** Practice saying the name. Is it easy to pronounce and remember?\\n*   **Get Feedback:** Ask friends, family, and potential customers for their opinions.\\n*   **Consider a Tagline:** A tagline can help clarify your restaurant\\'s focus (e.g., \"The Saffron Table: Authentic North Indian Cuisine\").\\n\\n**To help me narrow down the suggestions, please tell me more about your restaurant concept!**'}\n"
     ]
    }
   ],
   "source": [
    "prompt = PromptTemplate(\n",
    "    input_variables=['cuisine'],\n",
    "    template=\"I want to open a {cuisine} restaurant. Suggest a great name for it.\"\n",
    ")\n",
    "\n",
    "from langchain.chains import LLMChain\n",
    "chain = LLMChain(\n",
    "    llm=llm,\n",
    "    prompt=prompt\n",
    ")\n",
    "prompt.format(cuisine=\"Italian\")  # Formatting the prompt with Italian cuisine\n",
    "# output = chain.run({\"cuisine\": \"Italian\"}) #The method `Chain.run` was deprecated in langchain 0.1.0 and will be removed in 1.0\n",
    "output = chain.invoke({\"cuisine\": \"Indian\"})  # Using invoke instead of run\n",
    "print(output)"
   ]
  },
  {
   "cell_type": "code",
   "execution_count": 13,
   "id": "3bf2d0cc",
   "metadata": {},
   "outputs": [
    {
     "name": "stdout",
     "output_type": "stream",
     "text": [
      "Cuisine: Japanese\n",
      "Text: Okay, let's brainstorm some names for your Japanese restaurant! I'll try to give you a variety, considering different styles and vibes.  To help me narrow it down, think about:\n",
      "\n",
      "*   **What kind of food will you specialize in?** (Sushi, Ramen, Izakaya, Tempura, general Japanese cuisine?)\n",
      "*   **What's the overall atmosphere you want to create?** (Modern, traditional, casual, upscale?)\n",
      "*   **What's your target audience?** (Students, families, young professionals?)\n",
      "*   **Do you want a name that's easy to pronounce for non-Japanese speakers?**\n",
      "*   **Do you want to incorporate your location in the name?**\n",
      "\n",
      "Here are some ideas, categorized for inspiration:\n",
      "\n",
      "**I. Traditional & Elegant:**\n",
      "\n",
      "*   **Kiyomi (清美)** - \"Pure Beauty\" (Good for a refined, elegant experience)\n",
      "*   **Sakura Tei (桜亭)** - \"Cherry Blossom Pavilion\" (Classic, evokes springtime)\n",
      "*   **Matsumoto (松本)** - \"Pine Tree Root\" (Evokes longevity and strength, can also be a family name)\n",
      "*   **Kaede (楓)** - \"Maple\" (Beautiful imagery, autumn colors)\n",
      "*   **Shinju (真珠)** - \"Pearl\" (Elegant, refined, precious)\n",
      "*   **Ichi Raku (一楽)** - \"One Pleasure/Comfort\" (Suggests a relaxing and enjoyable experience)\n",
      "\n",
      "**II. Modern & Chic:**\n",
      "\n",
      "*   **Zenith Sushi** (Combines Japanese with a modern concept)\n",
      "*   **Tokyo Table** (Simple, direct, and recognizable)\n",
      "*   **Umami Lab** (Appeals to foodies, suggests experimentation)\n",
      "*   **Neon Noodle** (Trendy, playful, good for ramen)\n",
      "*   **The Bento Box** (Simple, catchy, highlights a popular item)\n",
      "*   **Sushi & Seoul** (If you plan to have a fusion menu.)\n",
      "\n",
      "**III. Playful & Casual:**\n",
      "\n",
      "*   **Neko Cafe (猫カフェ)** - \"Cat Cafe\" (If you have a cat theme)\n",
      "*   **Ramen Rumble** (Fun, energetic, good for a lively ramen spot)\n",
      "*   **Wasabi Wonders** (Playful alliteration, memorable)\n",
      "*   **Sushi Samba** (If you plan to have a fusion menu.)\n",
      "*   **The Lucky Cat** (Refers to the Maneki Neko, a symbol of good fortune)\n",
      "*   **Oishii!** (Means \"Delicious!\" in Japanese - very direct and positive)\n",
      "\n",
      "**IV. Location-Based (Adapt to your city/town):**\n",
      "\n",
      "*   **[City/Town Name] Sushi**\n",
      "*   **[Neighborhood Name] Ramen**\n",
      "*   **[Landmark] Japanese Bistro**\n",
      "*   **[Street Name] Izakaya**\n",
      "*   **The [Local River/Mountain] Grill**\n",
      "\n",
      "**V. Names Incorporating Specific Dishes:**\n",
      "\n",
      "*   **Ramen Paradise**\n",
      "*   **Sushi Art**\n",
      "*   **Tempura House**\n",
      "*   **Gyoza Galaxy**\n",
      "*   **Yakitori Alley**\n",
      "\n",
      "**VI. Using Japanese Words (with English explanations for clarity):**\n",
      "\n",
      "*   **Aji (味)** - \"Taste\" or \"Flavor\"\n",
      "*   **Kaze (風)** - \"Wind\" (Suggests freshness and lightness)\n",
      "*   **Tsuki (月)** - \"Moon\" (Evokes a sense of calm and beauty)\n",
      "*   **Hoshi (星)** - \"Star\" (Suggests brilliance and quality)\n",
      "*   **Yume (夢)** - \"Dream\" (Suggests a special and imaginative experience)\n",
      "\n",
      "**VII. Important Considerations Before Deciding:**\n",
      "\n",
      "*   **Check Availability:**  Make sure the name isn't already in use by another restaurant in your area (or even nationally).  Do a thorough online search and check business name databases.\n",
      "*   **Domain Name:**  See if the domain name (e.g., `www.YourRestaurantName.com`) is available.  Having a website is crucial.\n",
      "*   **Social Media Handles:**  Check if you can secure the name on social media platforms like Instagram, Facebook, etc.\n",
      "*   **Trademark:**  Consider whether you want to trademark the name to protect it.\n",
      "\n",
      "**How to Choose:**\n",
      "\n",
      "1.  **Make a Shortlist:** Pick your top 3-5 favorites.\n",
      "2.  **Say Them Out Loud:**  Practice saying the names. Do they roll off the tongue easily?\n",
      "3.  **Get Feedback:** Ask friends, family, and potential customers what they think of your shortlist.\n",
      "4.  **Imagine the Branding:** Visualize the logo, menu, and overall aesthetic with each name. Which one feels the most \"right\"?\n",
      "\n",
      "Good luck with your restaurant! I hope this helps you find the perfect name. Let me know if you have a specific style in mind, and I can refine the suggestions.\n"
     ]
    }
   ],
   "source": [
    "output = chain.invoke({\"cuisine\": \"Japanese\"})  # Using invoke instead of run\n",
    "\n",
    "# as we are getting a dictionary as output, we can format it for better readability\n",
    "for key, value in output.items():\n",
    "    print(f\"{key.title()}: {value}\")"
   ]
  },
  {
   "cell_type": "markdown",
   "id": "589734b2",
   "metadata": {},
   "source": [
    "### Simple Sequential Chain & Sequential Chain "
   ]
  },
  {
   "cell_type": "code",
   "execution_count": 14,
   "id": "dd1fd992",
   "metadata": {},
   "outputs": [],
   "source": [
    "# Simple Sequential Chain\n",
    "# here output of the first (cuisine) is input to the second (restaurant name) or menu\n",
    "\n",
    "llm = ChatGoogleGenerativeAI(model=\"gemini-2.0-flash\", google_api_key=gemini_secretKey, temperature= 0.6)\n",
    "\n",
    "# first prompt\n",
    "prompt_template_name = PromptTemplate(\n",
    "    input_variables=['cuisine'],\n",
    "    template=\"I want to open a {cuisine} restaurant. Suggest only one great name for it.\")\n",
    "\n",
    "name_chain = LLMChain(\n",
    "    llm=llm,\n",
    "    prompt=prompt_template_name,\n",
    "    output_key='restaurant_name'  # This will be used as input for the next chain\n",
    "    )\n",
    "\n",
    "# second prompt\n",
    "prompt_template_items = PromptTemplate(\n",
    "    input_variables=['restaurant_name'],\n",
    "    template=\"Suggest me some food menu items for {restaurant_name} Return it as a comma separated list with bullets\")\n",
    "\n",
    "food_item_chain = LLMChain(\n",
    "    llm=llm,\n",
    "    prompt=prompt_template_items , # This will take the output from the first chain\n",
    "    output_key = 'menu_items')"
   ]
  },
  {
   "cell_type": "code",
   "execution_count": 15,
   "id": "03a861a0",
   "metadata": {},
   "outputs": [],
   "source": [
    "# Sequential chain\n",
    "from langchain.chains import SimpleSequentialChain, SequentialChain\n",
    "\n",
    "sequential_chain = SequentialChain(chains=[name_chain, food_item_chain],\n",
    "                    input_variables=['cuisine'], output_variables=['restaurant_name', 'menu_items'])\n",
    "\n",
    "# Use SequentialChain instead of SimpleSequentialChain To pass named keys properly (like restaurant_name),\n",
    "# use SequentialChain, which is more flexible and explicitly allows mapping of input/output keys."
   ]
  },
  {
   "cell_type": "code",
   "execution_count": 16,
   "id": "a2c0fc0d",
   "metadata": {},
   "outputs": [
    {
     "name": "stdout",
     "output_type": "stream",
     "text": [
      "{'cuisine': 'Chinese', 'restaurant_name': '**Golden Dragon Wok**', 'menu_items': 'Okay, here are some menu item suggestions for \"Golden Dragon Wok,\" aiming for a balance of classic and unique, with a focus on wok-style cooking:\\n\\n*   **Appetizers:**\\n    *   Golden Dragon Spring Rolls (crispy, vegetarian option available)\\n    *   Wok-Seared Edamame with Garlic & Chili\\n    *   Spicy Kung Pao Chicken Lettuce Wraps\\n    *   Crispy Fried Wonton with Sweet and Sour Sauce\\n    *   Scallion Pancakes with Ginger Soy Dip\\n\\n*   **Soups:**\\n    *   Hot and Sour Soup (classic)\\n    *   Wonton Soup\\n    *   Egg Drop Soup\\n    *   Seafood Tofu Soup\\n\\n*   **Noodles & Rice:**\\n    *   Golden Dragon Special Fried Rice (with shrimp, chicken, pork, and vegetables)\\n    *   Lo Mein (chicken, beef, pork, shrimp, or vegetable options)\\n    *   Pad Thai (with shrimp or chicken)\\n    *   Singapore Noodles (thin rice noodles with shrimp, pork, and curry powder)\\n    *   Yakisoba (Japanese stir-fried noodles)\\n    *   Udon Noodles with Beef and Black Pepper Sauce\\n\\n*   **Chicken:**\\n    *   General Tso\\'s Chicken (classic)\\n    *   Orange Chicken (classic)\\n    *   Kung Pao Chicken (with peanuts and chili peppers)\\n    *   Mongolian Chicken (with scallions and garlic)\\n    *   Honey Garlic Chicken\\n    *   Szechuan Chicken (spicy)\\n\\n*   **Beef:**\\n    *   Mongolian Beef (classic)\\n    *   Beef with Broccoli (classic)\\n    *   Pepper Steak\\n    *   Beef with Snow Peas\\n    *   Szechuan Beef (spicy)\\n\\n*   **Pork:**\\n    *   Sweet and Sour Pork (classic)\\n    *   Moo Shu Pork (with pancakes)\\n    *   Twice Cooked Pork Belly\\n    *   Pork with Garlic Sauce\\n\\n*   **Seafood:**\\n    *   Shrimp with Lobster Sauce\\n    *   Kung Pao Shrimp\\n    *   Shrimp with Broccoli\\n    *   Szechuan Shrimp (spicy)\\n    *   Crispy Honey Walnut Shrimp\\n    *   Salt and Pepper Calamari\\n\\n*   **Vegetarian:**\\n    *   Vegetable Lo Mein\\n    *   Vegetable Fried Rice\\n    *   Mapo Tofu (spicy tofu in a bean sauce)\\n    *   Stir-Fried Mixed Vegetables with Garlic Sauce\\n    *   Eggplant with Garlic Sauce\\n\\n*   **Chef\\'s Specials:**\\n    *   Golden Dragon Seafood Platter (a combination of shrimp, scallops, calamari, and vegetables in a special sauce)\\n    *   Peking Duck (requires advance order)\\n    *   Crispy Whole Fish with Ginger and Scallions\\n\\n*   **Sides:**\\n    *   White Rice\\n    *   Brown Rice\\n    *   Fried Rice\\n\\n*   **Desserts:**\\n    *   Fried Ice Cream\\n    *   Sesame Balls\\n    *   Fortune Cookies\\n\\n*   **Drinks:**\\n    *   Soft Drinks\\n    *   Iced Tea\\n    *   Chinese Tea (Jasmine, Oolong)\\n    *   Beer\\n    *   Wine'}\n",
      "Cuisine: Chinese\n",
      "Restaurant_Name: **Golden Dragon Wok**\n",
      "Menu_Items: Okay, here are some menu item suggestions for \"Golden Dragon Wok,\" aiming for a balance of classic and unique, with a focus on wok-style cooking:\n",
      "\n",
      "*   **Appetizers:**\n",
      "    *   Golden Dragon Spring Rolls (crispy, vegetarian option available)\n",
      "    *   Wok-Seared Edamame with Garlic & Chili\n",
      "    *   Spicy Kung Pao Chicken Lettuce Wraps\n",
      "    *   Crispy Fried Wonton with Sweet and Sour Sauce\n",
      "    *   Scallion Pancakes with Ginger Soy Dip\n",
      "\n",
      "*   **Soups:**\n",
      "    *   Hot and Sour Soup (classic)\n",
      "    *   Wonton Soup\n",
      "    *   Egg Drop Soup\n",
      "    *   Seafood Tofu Soup\n",
      "\n",
      "*   **Noodles & Rice:**\n",
      "    *   Golden Dragon Special Fried Rice (with shrimp, chicken, pork, and vegetables)\n",
      "    *   Lo Mein (chicken, beef, pork, shrimp, or vegetable options)\n",
      "    *   Pad Thai (with shrimp or chicken)\n",
      "    *   Singapore Noodles (thin rice noodles with shrimp, pork, and curry powder)\n",
      "    *   Yakisoba (Japanese stir-fried noodles)\n",
      "    *   Udon Noodles with Beef and Black Pepper Sauce\n",
      "\n",
      "*   **Chicken:**\n",
      "    *   General Tso's Chicken (classic)\n",
      "    *   Orange Chicken (classic)\n",
      "    *   Kung Pao Chicken (with peanuts and chili peppers)\n",
      "    *   Mongolian Chicken (with scallions and garlic)\n",
      "    *   Honey Garlic Chicken\n",
      "    *   Szechuan Chicken (spicy)\n",
      "\n",
      "*   **Beef:**\n",
      "    *   Mongolian Beef (classic)\n",
      "    *   Beef with Broccoli (classic)\n",
      "    *   Pepper Steak\n",
      "    *   Beef with Snow Peas\n",
      "    *   Szechuan Beef (spicy)\n",
      "\n",
      "*   **Pork:**\n",
      "    *   Sweet and Sour Pork (classic)\n",
      "    *   Moo Shu Pork (with pancakes)\n",
      "    *   Twice Cooked Pork Belly\n",
      "    *   Pork with Garlic Sauce\n",
      "\n",
      "*   **Seafood:**\n",
      "    *   Shrimp with Lobster Sauce\n",
      "    *   Kung Pao Shrimp\n",
      "    *   Shrimp with Broccoli\n",
      "    *   Szechuan Shrimp (spicy)\n",
      "    *   Crispy Honey Walnut Shrimp\n",
      "    *   Salt and Pepper Calamari\n",
      "\n",
      "*   **Vegetarian:**\n",
      "    *   Vegetable Lo Mein\n",
      "    *   Vegetable Fried Rice\n",
      "    *   Mapo Tofu (spicy tofu in a bean sauce)\n",
      "    *   Stir-Fried Mixed Vegetables with Garlic Sauce\n",
      "    *   Eggplant with Garlic Sauce\n",
      "\n",
      "*   **Chef's Specials:**\n",
      "    *   Golden Dragon Seafood Platter (a combination of shrimp, scallops, calamari, and vegetables in a special sauce)\n",
      "    *   Peking Duck (requires advance order)\n",
      "    *   Crispy Whole Fish with Ginger and Scallions\n",
      "\n",
      "*   **Sides:**\n",
      "    *   White Rice\n",
      "    *   Brown Rice\n",
      "    *   Fried Rice\n",
      "\n",
      "*   **Desserts:**\n",
      "    *   Fried Ice Cream\n",
      "    *   Sesame Balls\n",
      "    *   Fortune Cookies\n",
      "\n",
      "*   **Drinks:**\n",
      "    *   Soft Drinks\n",
      "    *   Iced Tea\n",
      "    *   Chinese Tea (Jasmine, Oolong)\n",
      "    *   Beer\n",
      "    *   Wine\n"
     ]
    }
   ],
   "source": [
    "response = sequential_chain.invoke({\"cuisine\": \"Chinese\"})\n",
    "print(response)\n",
    "for key, value in response.items():\n",
    "    print(f\"{key.title()}: {value}\")"
   ]
  },
  {
   "cell_type": "code",
   "execution_count": 17,
   "id": "0bed2508",
   "metadata": {},
   "outputs": [
    {
     "name": "stdout",
     "output_type": "stream",
     "text": [
      "Cuisine: Indian Vegetarian\n",
      "Restaurant_Name: Spice Root\n",
      "Menu_Items: Okay, here's a menu suggestion for \"Spice Root Return\", aiming for a theme that evokes both spice and grounding, perhaps a return to flavorful roots:\n",
      "\n",
      "*   **Appetizers:**\n",
      "    *   Spiced Carrot and Ginger Soup Shooters\n",
      "    *   Tamarind Glazed Chicken Wings\n",
      "    *   Beetroot and Goat Cheese Crostini with Balsamic Glaze\n",
      "    *   Sweet Potato and Black Bean Empanadas with Chipotle Aioli\n",
      "    *   Crispy Okra Fries with Curry Mayo\n",
      "\n",
      "*   **Main Courses:**\n",
      "    *   Pan-Seared Salmon with Turmeric Roasted Cauliflower and Coconut Rice\n",
      "    *   Slow-Cooked Lamb Shank with Saffron Infused Couscous and Dried Apricots\n",
      "    *   Butternut Squash and Chickpea Curry with Brown Rice and Naan Bread\n",
      "    *   Spice-Rubbed Pork Tenderloin with Apple Chutney and Roasted Root Vegetables\n",
      "    *   Grilled Eggplant Steaks with Harissa Paste, Quinoa Salad, and Mint Yogurt Sauce\n",
      "\n",
      "*   **Sides:**\n",
      "    *   Roasted Root Vegetable Medley with Herbs\n",
      "    *   Spiced Basmati Rice Pilaf\n",
      "    *   Garlic and Ginger Stir-Fried Greens\n",
      "    *   Coconut and Cilantro Quinoa\n",
      "    *   Naan Bread with Garlic Butter\n",
      "\n",
      "*   **Desserts:**\n",
      "    *   Cardamom Infused Rice Pudding with Pistachios\n",
      "    *   Gingerbread Cake with Cream Cheese Frosting\n",
      "    *   Sweet Potato Pie with Cinnamon Whipped Cream\n",
      "    *   Mango Lassi Panna Cotta\n",
      "    *   Spiced Apple Crumble with Vanilla Ice Cream\n",
      "\n",
      "*   **Drinks:**\n",
      "    *   Ginger-Turmeric Lemonade\n",
      "    *   Cardamom Spiced Iced Tea\n",
      "    *   Hibiscus and Cinnamon Infusion\n",
      "    *   Mango Lassi\n",
      "    *   Selection of Indian Beers\n",
      "\n",
      "**Formatted for easy copy/paste:**\n",
      "\n",
      "* Spiced Carrot and Ginger Soup Shooters, Tamarind Glazed Chicken Wings, Beetroot and Goat Cheese Crostini with Balsamic Glaze, Sweet Potato and Black Bean Empanadas with Chipotle Aioli, Crispy Okra Fries with Curry Mayo, Pan-Seared Salmon with Turmeric Roasted Cauliflower and Coconut Rice, Slow-Cooked Lamb Shank with Saffron Infused Couscous and Dried Apricots, Butternut Squash and Chickpea Curry with Brown Rice and Naan Bread, Spice-Rubbed Pork Tenderloin with Apple Chutney and Roasted Root Vegetables, Grilled Eggplant Steaks with Harissa Paste, Quinoa Salad, and Mint Yogurt Sauce, Roasted Root Vegetable Medley with Herbs, Spiced Basmati Rice Pilaf, Garlic and Ginger Stir-Fried Greens, Coconut and Cilantro Quinoa, Naan Bread with Garlic Butter, Cardamom Infused Rice Pudding with Pistachios, Gingerbread Cake with Cream Cheese Frosting, Sweet Potato Pie with Cinnamon Whipped Cream, Mango Lassi Panna Cotta, Spiced Apple Crumble with Vanilla Ice Cream, Ginger-Turmeric Lemonade, Cardamom Spiced Iced Tea, Hibiscus and Cinnamon Infusion, Mango Lassi, Selection of Indian Beers\n"
     ]
    }
   ],
   "source": [
    "response_2= sequential_chain.invoke({\"cuisine\": \"Indian Vegetarian\"})\n",
    "\n",
    "for key, value in response_2.items():\n",
    "    print(f\"{key.title()}: {value}\")"
   ]
  },
  {
   "cell_type": "code",
   "execution_count": null,
   "id": "0903748c",
   "metadata": {},
   "outputs": [],
   "source": []
  }
 ],
 "metadata": {
  "kernelspec": {
   "display_name": "llm_env",
   "language": "python",
   "name": "python3"
  },
  "language_info": {
   "codemirror_mode": {
    "name": "ipython",
    "version": 3
   },
   "file_extension": ".py",
   "mimetype": "text/x-python",
   "name": "python",
   "nbconvert_exporter": "python",
   "pygments_lexer": "ipython3",
   "version": "3.13.2"
  }
 },
 "nbformat": 4,
 "nbformat_minor": 5
}
